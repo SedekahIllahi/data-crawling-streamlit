{
 "cells": [
  {
   "cell_type": "code",
   "execution_count": null,
   "id": "ffa95545",
   "metadata": {},
   "outputs": [
    {
     "data": {
      "text/html": [
       "<div>\n",
       "<style scoped>\n",
       "    .dataframe tbody tr th:only-of-type {\n",
       "        vertical-align: middle;\n",
       "    }\n",
       "\n",
       "    .dataframe tbody tr th {\n",
       "        vertical-align: top;\n",
       "    }\n",
       "\n",
       "    .dataframe thead th {\n",
       "        text-align: right;\n",
       "    }\n",
       "</style>\n",
       "<table border=\"1\" class=\"dataframe\">\n",
       "  <thead>\n",
       "    <tr style=\"text-align: right;\">\n",
       "      <th></th>\n",
       "      <th>Review</th>\n",
       "    </tr>\n",
       "  </thead>\n",
       "  <tbody>\n",
       "    <tr>\n",
       "      <th>0</th>\n",
       "      <td>Laptop tergolong ringan,tidak terlalu besar......</td>\n",
       "    </tr>\n",
       "    <tr>\n",
       "      <th>1</th>\n",
       "      <td>pengiriman cepat, spek barang sesuai, packing ...</td>\n",
       "    </tr>\n",
       "    <tr>\n",
       "      <th>2</th>\n",
       "      <td>manntab respon cepet barang ok dan original</td>\n",
       "    </tr>\n",
       "    <tr>\n",
       "      <th>3</th>\n",
       "      <td>Barang cepat sampai dan sesuai informasi, Admi...</td>\n",
       "    </tr>\n",
       "    <tr>\n",
       "      <th>4</th>\n",
       "      <td>Barang cepat sampai dan sesuai informasi, Admi...</td>\n",
       "    </tr>\n",
       "    <tr>\n",
       "      <th>...</th>\n",
       "      <td>...</td>\n",
       "    </tr>\n",
       "    <tr>\n",
       "      <th>88</th>\n",
       "      <td>sangat baik dengan harga yg kompetitif dengan ...</td>\n",
       "    </tr>\n",
       "    <tr>\n",
       "      <th>89</th>\n",
       "      <td>Mantapu Jiwa Raga Indonesia Raya Merdeka</td>\n",
       "    </tr>\n",
       "    <tr>\n",
       "      <th>90</th>\n",
       "      <td>mantab bosku!! \\nCepat sampai... produk origin...</td>\n",
       "    </tr>\n",
       "    <tr>\n",
       "      <th>91</th>\n",
       "      <td>barangnya sesuai tanpa lecet dan kurir tepat w...</td>\n",
       "    </tr>\n",
       "    <tr>\n",
       "      <th>92</th>\n",
       "      <td>Setelag dipakai kerja, kualitas dan performany...</td>\n",
       "    </tr>\n",
       "  </tbody>\n",
       "</table>\n",
       "<p>93 rows × 1 columns</p>\n",
       "</div>"
      ],
      "text/plain": [
       "                                               Review\n",
       "0   Laptop tergolong ringan,tidak terlalu besar......\n",
       "1   pengiriman cepat, spek barang sesuai, packing ...\n",
       "2         manntab respon cepet barang ok dan original\n",
       "3   Barang cepat sampai dan sesuai informasi, Admi...\n",
       "4   Barang cepat sampai dan sesuai informasi, Admi...\n",
       "..                                                ...\n",
       "88  sangat baik dengan harga yg kompetitif dengan ...\n",
       "89           Mantapu Jiwa Raga Indonesia Raya Merdeka\n",
       "90  mantab bosku!! \\nCepat sampai... produk origin...\n",
       "91  barangnya sesuai tanpa lecet dan kurir tepat w...\n",
       "92  Setelag dipakai kerja, kualitas dan performany...\n",
       "\n",
       "[93 rows x 1 columns]"
      ]
     },
     "execution_count": 1,
     "metadata": {},
     "output_type": "execute_result"
    }
   ],
   "source": [
    "import pandas as pd\n",
    "\n",
    "df = pd.read_csv('../data/reviews_raw.csv')\n",
    "df"
   ]
  }
 ],
 "metadata": {
  "kernelspec": {
   "display_name": "venv",
   "language": "python",
   "name": "python3"
  },
  "language_info": {
   "codemirror_mode": {
    "name": "ipython",
    "version": 3
   },
   "file_extension": ".py",
   "mimetype": "text/x-python",
   "name": "python",
   "nbconvert_exporter": "python",
   "pygments_lexer": "ipython3",
   "version": "3.10.10"
  }
 },
 "nbformat": 4,
 "nbformat_minor": 5
}
