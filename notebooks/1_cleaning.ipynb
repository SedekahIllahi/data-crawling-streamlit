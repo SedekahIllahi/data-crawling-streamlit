{
 "cells": [
  {
   "cell_type": "code",
   "execution_count": 1,
   "id": "b16f4761",
   "metadata": {},
   "outputs": [
    {
     "name": "stdout",
     "output_type": "stream",
     "text": [
      "Initial shape: (93, 1)\n"
     ]
    },
    {
     "data": {
      "text/html": [
       "<div>\n",
       "<style scoped>\n",
       "    .dataframe tbody tr th:only-of-type {\n",
       "        vertical-align: middle;\n",
       "    }\n",
       "\n",
       "    .dataframe tbody tr th {\n",
       "        vertical-align: top;\n",
       "    }\n",
       "\n",
       "    .dataframe thead th {\n",
       "        text-align: right;\n",
       "    }\n",
       "</style>\n",
       "<table border=\"1\" class=\"dataframe\">\n",
       "  <thead>\n",
       "    <tr style=\"text-align: right;\">\n",
       "      <th></th>\n",
       "      <th>review</th>\n",
       "    </tr>\n",
       "  </thead>\n",
       "  <tbody>\n",
       "    <tr>\n",
       "      <th>0</th>\n",
       "      <td>Laptop tergolong ringan,tidak terlalu besar......</td>\n",
       "    </tr>\n",
       "    <tr>\n",
       "      <th>1</th>\n",
       "      <td>pengiriman cepat, spek barang sesuai, packing ...</td>\n",
       "    </tr>\n",
       "    <tr>\n",
       "      <th>2</th>\n",
       "      <td>manntab respon cepet barang ok dan original</td>\n",
       "    </tr>\n",
       "    <tr>\n",
       "      <th>3</th>\n",
       "      <td>Barang cepat sampai dan sesuai informasi, Admi...</td>\n",
       "    </tr>\n",
       "    <tr>\n",
       "      <th>4</th>\n",
       "      <td>Barang cepat sampai dan sesuai informasi, Admi...</td>\n",
       "    </tr>\n",
       "  </tbody>\n",
       "</table>\n",
       "</div>"
      ],
      "text/plain": [
       "                                              review\n",
       "0  Laptop tergolong ringan,tidak terlalu besar......\n",
       "1  pengiriman cepat, spek barang sesuai, packing ...\n",
       "2        manntab respon cepet barang ok dan original\n",
       "3  Barang cepat sampai dan sesuai informasi, Admi...\n",
       "4  Barang cepat sampai dan sesuai informasi, Admi..."
      ]
     },
     "execution_count": 1,
     "metadata": {},
     "output_type": "execute_result"
    }
   ],
   "source": [
    "# 🧩 Imports\n",
    "import pandas as pd\n",
    "import re\n",
    "import string\n",
    "\n",
    "# 📥 Load data\n",
    "df = pd.read_csv(\"../data/reviews_raw.csv\") \n",
    "print(\"Initial shape:\", df.shape)\n",
    "df.head()"
   ]
  },
  {
   "cell_type": "code",
   "execution_count": 2,
   "id": "fcb8a579",
   "metadata": {},
   "outputs": [],
   "source": [
    "# 🔧 Cleaning functions\n",
    "import re\n",
    "\n",
    "def clean_text(text):\n",
    "    text = text.lower()\n",
    "    text = re.sub(r\"([.,!?])([^\\s])\", r\"\\1 \\2\", text)  # add space after punctuation if missing\n",
    "    text = re.sub(r\"[^a-z\\s]\", \"\", text)  # remove non-letter chars (optional)\n",
    "    text = re.sub(r\"\\s+\", \" \", text).strip()\n",
    "    return text\n",
    "\n",
    "\n",
    "df['cleaned_review'] = df['review'].apply(clean_text)"
   ]
  },
  {
   "cell_type": "code",
   "execution_count": 3,
   "id": "a3ccd0d1",
   "metadata": {},
   "outputs": [
    {
     "name": "stdout",
     "output_type": "stream",
     "text": [
      "After cleaning: (91, 2)\n"
     ]
    }
   ],
   "source": [
    "# 🧹 Remove duplicates & blanks\n",
    "df.drop_duplicates(subset='cleaned_review', inplace=True)\n",
    "df = df[df['cleaned_review'].str.strip() != \"\"]\n",
    "print(\"After cleaning:\", df.shape)"
   ]
  },
  {
   "cell_type": "code",
   "execution_count": 4,
   "id": "1374f264",
   "metadata": {},
   "outputs": [],
   "source": [
    "# 💾 Save cleaned data\n",
    "df.to_csv(\"../outputs/cleaned_reviews.csv\", index=False, encoding=\"utf-8-sig\")"
   ]
  }
 ],
 "metadata": {
  "kernelspec": {
   "display_name": "venv",
   "language": "python",
   "name": "python3"
  },
  "language_info": {
   "codemirror_mode": {
    "name": "ipython",
    "version": 3
   },
   "file_extension": ".py",
   "mimetype": "text/x-python",
   "name": "python",
   "nbconvert_exporter": "python",
   "pygments_lexer": "ipython3",
   "version": "3.10.10"
  }
 },
 "nbformat": 4,
 "nbformat_minor": 5
}
